{
 "cells": [
  {
   "cell_type": "code",
   "execution_count": 1,
   "metadata": {},
   "outputs": [],
   "source": [
    "import pandas as pd"
   ]
  },
  {
   "cell_type": "code",
   "execution_count": 2,
   "metadata": {},
   "outputs": [
    {
     "data": {
      "text/plain": [
       "0    Alice\n",
       "1     Jack\n",
       "2    Molly\n",
       "dtype: object"
      ]
     },
     "execution_count": 2,
     "metadata": {},
     "output_type": "execute_result"
    }
   ],
   "source": [
    "students = ['Alice', 'Jack', 'Molly']\n",
    "pd.Series(students)"
   ]
  },
  {
   "cell_type": "code",
   "execution_count": 3,
   "metadata": {},
   "outputs": [],
   "source": [
    "import numpy as np"
   ]
  },
  {
   "cell_type": "code",
   "execution_count": 4,
   "metadata": {},
   "outputs": [],
   "source": [
    "t = np.linspace(0,1,50)\n",
    "sine = 2*np.sin(2*np.pi*t)"
   ]
  },
  {
   "cell_type": "code",
   "execution_count": 7,
   "metadata": {},
   "outputs": [
    {
     "data": {
      "text/plain": [
       "1"
      ]
     },
     "execution_count": 7,
     "metadata": {},
     "output_type": "execute_result"
    }
   ],
   "source": [
    "np.random.randint(low = 0, high = 2)"
   ]
  },
  {
   "cell_type": "code",
   "execution_count": 8,
   "metadata": {},
   "outputs": [],
   "source": [
    "arr = np.array([[0.34659102, 0.88736773, 0.9552061 ],\n",
    "       [0.45635929, 0.08955531, 0.16221448],\n",
    "       [0.91208995, 0.5806005 , 0.94956507],\n",
    "       [0.95798454, 0.2356055 , 0.63938993],\n",
    "       [0.69597717, 0.58500954, 0.27611599],\n",
    "       [0.81587436, 0.66722308, 0.1153436 ],\n",
    "       [0.7748871 , 0.24224122, 0.80395726],\n",
    "       [0.97636427, 0.88578983, 0.06151782],\n",
    "       [0.91746781, 0.791986  , 0.12767417],\n",
    "       [0.42508357, 0.17744768, 0.64231658]])"
   ]
  },
  {
   "cell_type": "code",
   "execution_count": 9,
   "metadata": {},
   "outputs": [
    {
     "name": "stdout",
     "output_type": "stream",
     "text": [
      "[[0.34659102 0.88736773 0.9552061 ]\n",
      " [0.45635929 0.08955531 0.16221448]\n",
      " [0.91208995 0.5806005  0.94956507]\n",
      " [0.95798454 0.2356055  0.63938993]\n",
      " [0.69597717 0.58500954 0.27611599]\n",
      " [0.81587436 0.66722308 0.1153436 ]\n",
      " [0.7748871  0.24224122 0.80395726]\n",
      " [0.97636427 0.88578983 0.06151782]\n",
      " [0.91746781 0.791986   0.12767417]\n",
      " [0.42508357 0.17744768 0.64231658]]\n",
      "[1 0 0 2 0 0 0 1 1 2]\n"
     ]
    }
   ],
   "source": [
    "dist = np.abs(arr - 0.75)\n",
    "rta = np.argmin(dist,axis = 1)\n",
    "print(arr)\n",
    "print(rta)"
   ]
  },
  {
   "cell_type": "code",
   "execution_count": 33,
   "metadata": {},
   "outputs": [
    {
     "data": {
      "text/plain": [
       "array([0.88736773, 0.45635929, 0.91208995, 0.63938993, 0.69597717,\n",
       "       0.81587436, 0.7748871 , 0.88578983, 0.791986  , 0.64231658])"
      ]
     },
     "execution_count": 33,
     "metadata": {},
     "output_type": "execute_result"
    }
   ],
   "source": [
    "i = 0\n",
    "vacio = np.array([])\n",
    "for item in rta:\n",
    "#     print(item)\n",
    "#     print(arr[i,item])\n",
    "    vacio = np.append(vacio,arr[i,item])\n",
    "    i = i + 1\n",
    "\n",
    "vacio"
   ]
  },
  {
   "cell_type": "code",
   "execution_count": 55,
   "metadata": {},
   "outputs": [
    {
     "data": {
      "text/plain": [
       "[<matplotlib.lines.Line2D at 0x1dda7fe18b0>]"
      ]
     },
     "execution_count": 55,
     "metadata": {},
     "output_type": "execute_result"
    },
    {
     "data": {
      "image/png": "[encoded data removed]",
      "text/plain": [
       "<Figure size 432x288 with 1 Axes>"
      ]
     },
     "metadata": {
      "needs_background": "light"
     },
     "output_type": "display_data"
    }
   ],
   "source": []
  },
  {
   "cell_type": "code",
   "execution_count": 65,
   "metadata": {},
   "outputs": [
    {
     "data": {
      "text/plain": [
       "[<matplotlib.lines.Line2D at 0x1ddaa498340>]"
      ]
     },
     "execution_count": 65,
     "metadata": {},
     "output_type": "execute_result"
    },
    {
     "data": {
      "image/png": "[encoded data removed]",
      "text/plain": [
       "<Figure size 432x288 with 1 Axes>"
      ]
     },
     "metadata": {
      "needs_background": "light"
     },
     "output_type": "display_data"
    }
   ],
   "source": [
    "import matplotlib.pyplot as plt\n",
    "fs = 3200\n",
    "f = 5\n",
    "duracion = 5 \n",
    "t = np.linspace(0,5,5*fs)\n",
    "sine = 2*np.sin(2*np.pi*f*t) + 9.8\n",
    "plt.plot(t,sine)\n",
    "import scipy.signal as dsp\n",
    "R = 0.995\n",
    "b = np.array([1,-1,0])\n",
    "a = np.array([1,R,0])\n",
    "filtered = dsp.lfilter(b,a,sine)\n",
    "plt.plot(t,filtered)"
   ]
  },
  {
   "cell_type": "code",
   "execution_count": null,
   "metadata": {},
   "outputs": [],
   "source": []
  }
 ],
 "metadata": {
  "kernelspec": {
   "display_name": "Python 3",
   "language": "python",
   "name": "python3"
  },
  "language_info": {
   "codemirror_mode": {
    "name": "ipython",
    "version": 3
   },
   "file_extension": ".py",
   "mimetype": "text/x-python",
   "name": "python",
   "nbconvert_exporter": "python",
   "pygments_lexer": "ipython3",
   "version": "3.8.5"
  }
 },
 "nbformat": 4,
 "nbformat_minor": 4
}
